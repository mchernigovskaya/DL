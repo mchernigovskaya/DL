{
 "cells": [
  {
   "cell_type": "code",
   "execution_count": 267,
   "metadata": {
    "collapsed": true
   },
   "outputs": [],
   "source": [
    "import os\n",
    "import numpy as np\n",
    "import matplotlib.pyplot as plt\n",
    "import tensorflow as tf\n",
    "import xlrd"
   ]
  },
  {
   "cell_type": "markdown",
   "metadata": {},
   "source": [
    "Step 1: read in data from the .xls file"
   ]
  },
  {
   "cell_type": "code",
   "execution_count": 279,
   "metadata": {},
   "outputs": [],
   "source": [
    "DATA_FILE = \"data/fire_theft.xls\"\n",
    "\n",
    "book = xlrd.open_workbook(DATA_FILE, encoding_override=\"utf-8\")\n",
    "sheet = book.sheet_by_index(0)\n",
    "data = np.asarray([sheet.row_values(i) for i in range(1, sheet.nrows)])\n",
    "n_samples = sheet.nrows - 1"
   ]
  },
  {
   "cell_type": "markdown",
   "metadata": {},
   "source": [
    "Step 2: create placeholders for input X (number of fire) and label Y (number of theft)"
   ]
  },
  {
   "cell_type": "code",
   "execution_count": 269,
   "metadata": {
    "collapsed": true
   },
   "outputs": [],
   "source": [
    "X = tf.placeholder(tf.float32, name=\"X\")\n",
    "Y = tf.placeholder(tf.float32, name=\"Y\")"
   ]
  },
  {
   "cell_type": "markdown",
   "metadata": {},
   "source": [
    "Step 3: create weight and bias, initialized to 0"
   ]
  },
  {
   "cell_type": "code",
   "execution_count": 270,
   "metadata": {
    "collapsed": true
   },
   "outputs": [],
   "source": [
    "w = tf.Variable(0.0, name='w')\n",
    "b = tf.Variable(0.0, name='b')"
   ]
  },
  {
   "cell_type": "markdown",
   "metadata": {},
   "source": [
    "Step 4: build model to predict Y"
   ]
  },
  {
   "cell_type": "code",
   "execution_count": 271,
   "metadata": {
    "collapsed": true
   },
   "outputs": [],
   "source": [
    "Y_predicted = w * X + b"
   ]
  },
  {
   "cell_type": "markdown",
   "metadata": {},
   "source": [
    "Step 5: use the square error as the loss function"
   ]
  },
  {
   "cell_type": "code",
   "execution_count": 272,
   "metadata": {
    "collapsed": true
   },
   "outputs": [],
   "source": [
    "loss_square = tf.square(Y - Y_predicted)"
   ]
  },
  {
   "cell_type": "markdown",
   "metadata": {},
   "source": [
    "Step 5a: implement Huber loss function from lecture and try it out"
   ]
  },
  {
   "cell_type": "code",
   "execution_count": 273,
   "metadata": {
    "collapsed": true
   },
   "outputs": [],
   "source": [
    "def huber_loss(labels, predictions, delta=1.0):\n",
    "    res = tf.abs(predictions - labels)\n",
    "    return tf.where(tf.less(res, delta), 0.5 * tf.square(res), delta * res - 0.5 * tf.square(delta))"
   ]
  },
  {
   "cell_type": "code",
   "execution_count": 259,
   "metadata": {
    "collapsed": true
   },
   "outputs": [],
   "source": [
    "#loss_huber = huber_loss(Y, Y_predicted)"
   ]
  },
  {
   "cell_type": "markdown",
   "metadata": {},
   "source": [
    "Step 6: using gradient descent with learning rate of 0.01 to minimize loss"
   ]
  },
  {
   "cell_type": "code",
   "execution_count": 260,
   "metadata": {},
   "outputs": [],
   "source": [
    "optimizer = tf.train.GradientDescentOptimizer(learning_rate=0.001).minimize(huber_loss(Y, Y_predicted, delta = .05))"
   ]
  },
  {
   "cell_type": "code",
   "execution_count": 261,
   "metadata": {
    "collapsed": true
   },
   "outputs": [],
   "source": [
    "sess = tf.Session() # prefer with tf.Session() as sess: in your code"
   ]
  },
  {
   "cell_type": "markdown",
   "metadata": {},
   "source": [
    "Step 7: initialize the necessary variables, in this case, w and b"
   ]
  },
  {
   "cell_type": "code",
   "execution_count": 262,
   "metadata": {
    "collapsed": true
   },
   "outputs": [],
   "source": [
    "sess.run(tf.global_variables_initializer())\n",
    "writer = tf.summary.FileWriter('./graphs/linear_reg', sess.graph)"
   ]
  },
  {
   "cell_type": "markdown",
   "metadata": {},
   "source": [
    "Step 8: train the model"
   ]
  },
  {
   "cell_type": "code",
   "execution_count": 263,
   "metadata": {},
   "outputs": [
    {
     "name": "stdout",
     "output_type": "stream",
     "text": [
      "Epoch 0: 1638.4929435593742\n",
      "Epoch 1: 1609.5319445700873\n",
      "Epoch 2: 1580.9323383172352\n",
      "Epoch 3: 1552.6942826963607\n",
      "Epoch 4: 1524.8175816280502\n",
      "Epoch 5: 1497.3022700945537\n",
      "Epoch 6: 1470.148410549077\n",
      "Epoch 7: 1443.816837867101\n",
      "Epoch 8: 1419.523480009465\n",
      "Epoch 9: 1395.5349259376526\n",
      "Epoch 10: 1371.8513117517743\n",
      "Epoch 11: 1348.472394159862\n",
      "Epoch 12: 1325.3983734221686\n",
      "Epoch 13: 1302.629207611084\n",
      "Epoch 14: 1280.16475940886\n",
      "Epoch 15: 1258.0052525656563\n",
      "Epoch 16: 1236.1504360834758\n",
      "Epoch 17: 1214.600567863101\n",
      "Epoch 18: 1193.3553888230097\n",
      "Epoch 19: 1172.4151257106237\n",
      "Epoch 20: 1151.779659180414\n",
      "Epoch 21: 1131.4490302857898\n",
      "Epoch 22: 1111.4232272193544\n",
      "Epoch 23: 1091.7022864932105\n",
      "Epoch 24: 1072.2861348106749\n",
      "Epoch 25: 1053.174772716704\n",
      "Epoch 26: 1034.3682302747454\n",
      "Epoch 27: 1015.8664912269229\n",
      "Epoch 28: 997.6696246919178\n",
      "Epoch 29: 979.777490070888\n",
      "Epoch 30: 962.1902720133463\n",
      "Epoch 31: 944.9077779224941\n",
      "Epoch 32: 927.9301531882513\n",
      "Epoch 33: 911.2573250134786\n",
      "Epoch 34: 894.8893537975493\n",
      "Epoch 35: 878.8261739015579\n",
      "Epoch 36: 863.0677539734613\n",
      "Epoch 37: 847.6296546580436\n",
      "Epoch 38: 832.8349656760693\n",
      "Epoch 39: 819.6996425929524\n",
      "Epoch 40: 806.8022066525051\n",
      "Epoch 41: 794.1425828366052\n",
      "Epoch 42: 781.7208147276016\n",
      "Epoch 43: 769.5369270869663\n",
      "Epoch 44: 757.5909260000501\n",
      "Epoch 45: 745.88283082559\n",
      "Epoch 46: 734.7243844488139\n",
      "Epoch 47: 724.7884204636017\n",
      "Epoch 48: 715.5840762945868\n",
      "Epoch 49: 707.6128484939916\n"
     ]
    }
   ],
   "source": [
    "for i in range(50): # train the model 50 epochs\n",
    "    total_loss = 0\n",
    "    for x, y in data:\n",
    "        # Session runs train_op and fetch values of loss\n",
    "        _, l = sess.run([optimizer, loss_square], feed_dict={X:x, Y:y})\n",
    "        total_loss += l\n",
    "    print('Epoch {0}: {1}'.format(i, total_loss/float(n_samples)))\n",
    "\n",
    "# close the writer when you're done using it\n",
    "writer.close() "
   ]
  },
  {
   "cell_type": "markdown",
   "metadata": {},
   "source": [
    "Step 9: output the values of w and b"
   ]
  },
  {
   "cell_type": "code",
   "execution_count": 264,
   "metadata": {},
   "outputs": [],
   "source": [
    "w, b = sess.run([w, b])"
   ]
  },
  {
   "cell_type": "markdown",
   "metadata": {},
   "source": [
    "Step 10: plot the results"
   ]
  },
  {
   "cell_type": "code",
   "execution_count": 265,
   "metadata": {},
   "outputs": [
    {
     "data": {
      "image/png": "[encoded data removed]",
      "text/plain": [
       "<matplotlib.figure.Figure at 0x7f86c9be6470>"
      ]
     },
     "metadata": {},
     "output_type": "display_data"
    }
   ],
   "source": [
    "X, Y = data[:, 0], data[:, 1]\n",
    "plt.figure(figsize=(8, 6))\n",
    "plt.scatter(X, Y, label=\"Real data\")\n",
    "plt.plot(X, w * X + b, label=\"Predicted data\", color='r')\n",
    "plt.legend()\n",
    "plt.show()"
   ]
  },
  {
   "cell_type": "markdown",
   "metadata": {},
   "source": [
    "# Try huber loss with different deltas:"
   ]
  },
  {
   "cell_type": "code",
   "execution_count": 276,
   "metadata": {},
   "outputs": [
    {
     "name": "stdout",
     "output_type": "stream",
     "text": [
      "Epoch 0: 0.03363339267005878\n",
      "Epoch 1: 0.033565307374201006\n",
      "Epoch 2: 0.03349722166811781\n",
      "Epoch 3: 0.03342913593986027\n",
      "Epoch 4: 0.03336104976811579\n",
      "Epoch 5: 0.03329296449997595\n",
      "Epoch 6: 0.033224878344862235\n",
      "Epoch 7: 0.03315679301019935\n",
      "Epoch 8: 0.033088707320746924\n",
      "Epoch 9: 0.03302062118780755\n",
      "Epoch 10: 0.03295253518791426\n",
      "Epoch 11: 0.032884449869882135\n",
      "Epoch 12: 0.03281636374248635\n",
      "Epoch 13: 0.03274827861293618\n",
      "Epoch 14: 0.03268019266293517\n",
      "Epoch 15: 0.03261210697902633\n",
      "Epoch 16: 0.03254402166653779\n",
      "Epoch 17: 0.032475935514195864\n",
      "Epoch 18: 0.03240785020170733\n",
      "Epoch 19: 0.03233976399115775\n",
      "Epoch 20: 0.03227167890041268\n",
      "Epoch 21: 0.03220359293378091\n",
      "Epoch 22: 0.03213550784303585\n",
      "Epoch 23: 0.032067422170214174\n",
      "Epoch 24: 0.03199933702403325\n",
      "Epoch 25: 0.03193125219106497\n",
      "Epoch 26: 0.03186316677324828\n",
      "Epoch 27: 0.031795082338032354\n",
      "Epoch 28: 0.03172699676499525\n",
      "Epoch 29: 0.03165891222445117\n",
      "Epoch 30: 0.03159082696185492\n",
      "Epoch 31: 0.03152274245457236\n",
      "Epoch 32: 0.03145465695394835\n",
      "Epoch 33: 0.031386572357621934\n",
      "Epoch 34: 0.031322176556430006\n",
      "Epoch 35: 0.031264746406079555\n",
      "Epoch 36: 0.03120731631116498\n",
      "Epoch 37: 0.031149885317842876\n",
      "Epoch 38: 0.031092455011925528\n",
      "Epoch 39: 0.031035024883402956\n",
      "Epoch 40: 0.030977595165105804\n",
      "Epoch 41: 0.03092016437273872\n",
      "Epoch 42: 0.03086273372311899\n",
      "Epoch 43: 0.030805303770605297\n",
      "Epoch 44: 0.03074787304614715\n",
      "Epoch 45: 0.030690443150455222\n",
      "Epoch 46: 0.030633012445399628\n",
      "Epoch 47: 0.030575582128395104\n",
      "Epoch 48: 0.030518151123985825\n",
      "Epoch 49: 0.03046071983408183\n",
      "Epoch 0: 0.16750142661233744\n",
      "Epoch 1: 0.16579928679303044\n",
      "Epoch 2: 0.1640971458650061\n",
      "Epoch 3: 0.16239500640048868\n",
      "Epoch 4: 0.1606928674459812\n",
      "Epoch 5: 0.15899072520412683\n",
      "Epoch 6: 0.15728858118555286\n",
      "Epoch 7: 0.15573920525743493\n",
      "Epoch 8: 0.15430342727562502\n",
      "Epoch 9: 0.15286764810748754\n",
      "Epoch 10: 0.1514318751925159\n",
      "Epoch 11: 0.14999610028185306\n",
      "Epoch 12: 0.14856032672382535\n",
      "Epoch 13: 0.1471245534540642\n",
      "Epoch 14: 0.14568877610422315\n",
      "Epoch 15: 0.14425300163704724\n",
      "Epoch 16: 0.1428172289438191\n",
      "Epoch 17: 0.14138145784714393\n",
      "Epoch 18: 0.13994568107383593\n",
      "Epoch 19: 0.13850990682840347\n",
      "Epoch 20: 0.13707413613086655\n",
      "Epoch 21: 0.13563836357068448\n",
      "Epoch 22: 0.13420259145398936\n",
      "Epoch 23: 0.13276682279649235\n",
      "Epoch 24: 0.13133105334071887\n",
      "Epoch 25: 0.12989528175620807\n",
      "Epoch 26: 0.12845951043778941\n",
      "Epoch 27: 0.12702373903067338\n",
      "Epoch 28: 0.12558797046187378\n",
      "Epoch 29: 0.12415219856692213\n",
      "Epoch 30: 0.12271642800243128\n",
      "Epoch 31: 0.1212806563292231\n",
      "Epoch 32: 0.11984488647431135\n",
      "Epoch 33: 0.1184091159098205\n",
      "Epoch 34: 0.11697334698623135\n",
      "Epoch 35: 0.11553757522432577\n",
      "Epoch 36: 0.11410180241468229\n",
      "Epoch 37: 0.11266603305037799\n",
      "Epoch 38: 0.11141444244311147\n",
      "Epoch 39: 0.1102934493905022\n",
      "Epoch 40: 0.10917245523471918\n",
      "Epoch 41: 0.10805145866193232\n",
      "Epoch 42: 0.10693045346332448\n",
      "Epoch 43: 0.1058094485308088\n",
      "Epoch 44: 0.10468844512832307\n",
      "Epoch 45: 0.10356744347761075\n",
      "Epoch 46: 0.10244643826895515\n",
      "Epoch 47: 0.10158137574104503\n",
      "Epoch 48: 0.10080265067136636\n",
      "Epoch 49: 0.10024088152741092\n",
      "Epoch 0: 0.3333390505008754\n",
      "Epoch 1: 0.32653048559136333\n",
      "Epoch 2: 0.31972192148012774\n",
      "Epoch 3: 0.31320756360600216\n",
      "Epoch 4: 0.3074644665411186\n",
      "Epoch 5: 0.30172136275186423\n",
      "Epoch 6: 0.295978247143683\n",
      "Epoch 7: 0.29023513934087186\n",
      "Epoch 8: 0.28449202940932344\n",
      "Epoch 9: 0.27874892364655224\n",
      "Epoch 10: 0.2730058241812956\n",
      "Epoch 11: 0.26726273127964567\n",
      "Epoch 12: 0.26151963394312633\n",
      "Epoch 13: 0.2557765348326592\n",
      "Epoch 14: 0.2500334359882843\n",
      "Epoch 15: 0.24429033865176497\n",
      "Epoch 16: 0.23854724579446374\n",
      "Epoch 17: 0.23280414499874627\n",
      "Epoch 18: 0.22706105096066104\n",
      "Epoch 19: 0.2219713809013012\n",
      "Epoch 20: 0.21748740261509306\n",
      "Epoch 21: 0.21300342683458612\n",
      "Epoch 22: 0.20851944947970055\n",
      "Epoch 23: 0.20447851342725612\n",
      "Epoch 24: 0.20136366166393382\n",
      "Epoch 25: 0.19931622264197185\n",
      "Epoch 26: 0.197623611998833\n",
      "Epoch 27: 0.19620982333574266\n",
      "Epoch 28: 0.19505583716645128\n",
      "Epoch 29: 0.1939018508197651\n",
      "Epoch 30: 0.19274785972776867\n",
      "Epoch 31: 0.1915938721171447\n",
      "Epoch 32: 0.19043988747788326\n",
      "Epoch 33: 0.1892858990024598\n",
      "Epoch 34: 0.18813191285534275\n",
      "Epoch 35: 0.18697792232082325\n",
      "Epoch 36: 0.18611180287830176\n",
      "Epoch 37: 0.18536479806616193\n",
      "Epoch 38: 0.18461779937414186\n",
      "Epoch 39: 0.1838707955376733\n",
      "Epoch 40: 0.1831237958478076\n",
      "Epoch 41: 0.18237679371876375\n",
      "Epoch 42: 0.18162979274278596\n",
      "Epoch 43: 0.18088279090200862\n",
      "Epoch 44: 0.18013578806338565\n",
      "Epoch 45: 0.17938878608956224\n",
      "Epoch 46: 0.17864178819027507\n",
      "Epoch 47: 0.1778947837689581\n",
      "Epoch 48: 0.177281970551814\n",
      "Epoch 49: 0.17676735049601466\n",
      "Epoch 0: 1.6008216502751955\n",
      "Epoch 1: 1.44983124874887\n",
      "Epoch 2: 1.3062537504093987\n",
      "Epoch 3: 1.1648463694111255\n",
      "Epoch 4: 1.0498724602872418\n",
      "Epoch 5: 0.9841437670623973\n",
      "Epoch 6: 0.9552940011379265\n",
      "Epoch 7: 0.9305170683988503\n",
      "Epoch 8: 0.9118420355731532\n",
      "Epoch 9: 0.8931670563982889\n",
      "Epoch 10: 0.878640535556423\n",
      "Epoch 11: 0.8713443514314436\n",
      "Epoch 12: 0.8640714866951817\n",
      "Epoch 13: 0.8589779299439951\n",
      "Epoch 14: 0.8557045699812339\n",
      "Epoch 15: 0.8532004564379653\n",
      "Epoch 16: 0.8504359524094547\n",
      "Epoch 17: 0.8491055496657888\n",
      "Epoch 18: 0.8469341864166338\n",
      "Epoch 19: 0.8488387967282462\n",
      "Epoch 20: 0.8464968239533759\n",
      "Epoch 21: 0.8485720350983597\n",
      "Epoch 22: 0.8463028860721915\n",
      "Epoch 23: 0.8481325039285279\n",
      "Epoch 24: 0.8458174184918226\n",
      "Epoch 25: 0.8478657065979427\n",
      "Epoch 26: 0.845416038776637\n",
      "Epoch 27: 0.8475731906835877\n",
      "Epoch 28: 0.8459211602603318\n",
      "Epoch 29: 0.8462828044097738\n",
      "Epoch 30: 0.8449781062746686\n",
      "Epoch 31: 0.8466473381877655\n",
      "Epoch 32: 0.8445407187987474\n",
      "Epoch 33: 0.8463805616345434\n",
      "Epoch 34: 0.8441033446052599\n",
      "Epoch 35: 0.8461137756350494\n",
      "Epoch 36: 0.8436659021896221\n",
      "Epoch 37: 0.8458470045810654\n",
      "Epoch 38: 0.8443174484924557\n",
      "Epoch 39: 0.8431838747097312\n",
      "Epoch 40: 0.8453031463903331\n",
      "Epoch 41: 0.8434165184326481\n",
      "Epoch 42: 0.8445599881289083\n",
      "Epoch 43: 0.8428364007600716\n",
      "Epoch 44: 0.8442932192147488\n",
      "Epoch 45: 0.8423990380861575\n",
      "Epoch 46: 0.8440264234807164\n",
      "Epoch 47: 0.8419616085787615\n",
      "Epoch 48: 0.8437596338224553\n",
      "Epoch 49: 0.841524176044567\n",
      "Epoch 0: 3.0681313368536176\n",
      "Epoch 1: 2.493821196967647\n",
      "Epoch 2: 2.0420736736130145\n",
      "Epoch 3: 1.8881919970820793\n",
      "Epoch 4: 1.8073981854000263\n",
      "Epoch 5: 1.7529532217553683\n",
      "Epoch 6: 1.7238619801189219\n",
      "Epoch 7: 1.709075018375491\n",
      "Epoch 8: 1.6991680229908699\n",
      "Epoch 9: 1.6980414234241747\n",
      "Epoch 10: 1.701307554607324\n",
      "Epoch 11: 1.6955252301302695\n",
      "Epoch 12: 1.7002405039079131\n",
      "Epoch 13: 1.693775547047456\n",
      "Epoch 14: 1.699173450736063\n",
      "Epoch 15: 1.692025818939631\n",
      "Epoch 16: 1.698106399515555\n",
      "Epoch 17: 1.6905558529764502\n",
      "Epoch 18: 1.6967465652241593\n",
      "Epoch 19: 1.6889830257388807\n",
      "Epoch 20: 1.6955338396309387\n",
      "Epoch 21: 1.68757651628749\n",
      "Epoch 22: 1.6941312890322435\n",
      "Epoch 23: 1.6859558904321776\n",
      "Epoch 24: 1.6929735663746084\n",
      "Epoch 25: 1.6846122843257727\n",
      "Epoch 26: 1.6915000371102775\n",
      "Epoch 27: 1.682913490205205\n",
      "Epoch 28: 1.6904329454437608\n",
      "Epoch 29: 1.6816732235851564\n",
      "Epoch 30: 1.6888434611083496\n",
      "Epoch 31: 1.679983709794691\n",
      "Epoch 32: 1.6877764047433932\n",
      "Epoch 33: 1.6785927287945968\n",
      "Epoch 34: 1.686336498086651\n",
      "Epoch 35: 1.6769304096011357\n",
      "Epoch 36: 1.6852270083590632\n",
      "Epoch 37: 1.6760773085323828\n",
      "Epoch 38: 1.6835280710033007\n",
      "Epoch 39: 1.6741525283349412\n",
      "Epoch 40: 1.6824610104695672\n",
      "Epoch 41: 1.6734367738134184\n",
      "Epoch 42: 1.6806606527950083\n",
      "Epoch 43: 1.6714826530909963\n",
      "Epoch 44: 1.6795936084928966\n",
      "Epoch 45: 1.6697329718153924\n",
      "Epoch 46: 1.6785265862764347\n",
      "Epoch 47: 1.6729107567315666\n",
      "Epoch 48: 1.667993326449678\n",
      "Epoch 49: 1.6761437507257575\n",
      "Epoch 0: 11.498190679010891\n",
      "Epoch 1: 8.681122325715565\n",
      "Epoch 2: 8.574468266396295\n",
      "Epoch 3: 8.554967579387483\n",
      "Epoch 4: 8.535467204593477\n",
      "Epoch 5: 8.515966318902516\n",
      "Epoch 6: 8.496465853282384\n",
      "Epoch 7: 8.476965132213774\n",
      "Epoch 8: 8.457464814186096\n",
      "Epoch 9: 8.437964030674525\n",
      "Epoch 10: 8.418463548024496\n",
      "Epoch 11: 8.39896293481191\n",
      "Epoch 12: 8.37946245216188\n",
      "Epoch 13: 8.359961804889497\n",
      "Epoch 14: 8.340461174647013\n",
      "Epoch 15: 8.320960794176374\n",
      "Epoch 16: 8.301460135550727\n",
      "Epoch 17: 8.281959755080086\n",
      "Epoch 18: 8.262458886419024\n",
      "Epoch 19: 8.242958432152157\n",
      "Epoch 20: 8.223457716760182\n",
      "Epoch 21: 8.203957217080253\n",
      "Epoch 22: 8.184456053234282\n",
      "Epoch 23: 8.164954832621984\n",
      "Epoch 24: 8.145454009373983\n",
      "Epoch 25: 8.12595302150363\n",
      "Epoch 26: 8.106451988220215\n",
      "Epoch 27: 8.086950790314447\n",
      "Epoch 28: 8.067257538083053\n",
      "Epoch 29: 8.047807922320706\n",
      "Epoch 30: 8.02830821719198\n",
      "Epoch 31: 8.008873256189483\n"
     ]
    },
    {
     "name": "stdout",
     "output_type": "stream",
     "text": [
      "Epoch 32: 7.98935486837512\n",
      "Epoch 33: 7.9699443992049925\n",
      "Epoch 34: 7.9503950123630815\n",
      "Epoch 35: 7.931024816596792\n",
      "Epoch 36: 7.9114236409465475\n",
      "Epoch 37: 7.89212088038524\n",
      "Epoch 38: 7.872433656028339\n",
      "Epoch 39: 7.85324395394751\n",
      "Epoch 40: 7.833414553886368\n",
      "Epoch 41: 7.814340557370867\n",
      "Epoch 42: 7.794500230501096\n",
      "Epoch 43: 7.775395251455761\n",
      "Epoch 44: 7.75552097193542\n",
      "Epoch 45: 7.736455974124727\n",
      "Epoch 46: 7.716625755741482\n",
      "Epoch 47: 7.697508976573036\n",
      "Epoch 48: 7.677622188769636\n",
      "Epoch 49: 7.658571862039112\n",
      "Epoch 0: 20.78248843943168\n",
      "Epoch 1: 17.50859196980794\n",
      "Epoch 2: 17.4305895169576\n",
      "Epoch 3: 17.352587575004215\n",
      "Epoch 4: 17.274585337865922\n",
      "Epoch 5: 17.19658306666783\n",
      "Epoch 6: 17.118580625170754\n",
      "Epoch 7: 17.040578206380207\n",
      "Epoch 8: 16.962575844355992\n",
      "Epoch 9: 16.884573743456887\n",
      "Epoch 10: 16.806571415492467\n",
      "Epoch 11: 16.72856881504967\n",
      "Epoch 12: 16.65056662332444\n",
      "Epoch 13: 16.571892325367248\n",
      "Epoch 14: 16.492146340864046\n",
      "Epoch 15: 16.413320473262242\n",
      "Epoch 16: 16.30321256887345\n",
      "Epoch 17: 16.163563262139046\n",
      "Epoch 18: 16.11937266659169\n",
      "Epoch 19: 15.898687094449997\n",
      "Epoch 20: 16.000069537710043\n",
      "Epoch 21: 15.550613852705629\n",
      "Epoch 22: 15.847923231266794\n",
      "Epoch 23: 15.378744841043261\n",
      "Epoch 24: 15.718445868364402\n",
      "Epoch 25: 15.07969512905748\n",
      "Epoch 26: 15.622706598430383\n",
      "Epoch 27: 15.03285538813188\n",
      "Epoch 28: 15.483305489622234\n",
      "Epoch 29: 14.700076886962744\n",
      "Epoch 30: 15.408367949582281\n",
      "Epoch 31: 14.959289304745782\n",
      "Epoch 32: 14.97500896063589\n",
      "Epoch 33: 14.652242356113025\n",
      "Epoch 34: 15.152217206500826\n",
      "Epoch 35: 14.380429129515376\n",
      "Epoch 36: 15.068718001956032\n",
      "Epoch 37: 14.251329028180667\n",
      "Epoch 38: 14.983258430446897\n",
      "Epoch 39: 14.461294228493768\n",
      "Epoch 40: 14.727712008215132\n",
      "Epoch 41: 14.07595918292091\n",
      "Epoch 42: 14.746414882441362\n",
      "Epoch 43: 13.95736382617837\n",
      "Epoch 44: 14.663308109156787\n",
      "Epoch 45: 13.851771616155194\n",
      "Epoch 46: 14.57776450695071\n",
      "Epoch 47: 13.756095231022863\n",
      "Epoch 48: 14.489615471944923\n",
      "Epoch 49: 13.669001768778323\n",
      "Epoch 0: 96.04761823869887\n",
      "Epoch 1: 89.47907010714214\n",
      "Epoch 2: 88.1360092673983\n",
      "Epoch 3: 86.29947725931804\n",
      "Epoch 4: 85.18870912563233\n",
      "Epoch 5: 83.4906641358421\n",
      "Epoch 6: 81.82523607427166\n",
      "Epoch 7: 80.66907209991699\n",
      "Epoch 8: 79.36604584567249\n",
      "Epoch 9: 78.28279109718278\n",
      "Epoch 10: 77.28716593413125\n",
      "Epoch 11: 75.14338187518574\n",
      "Epoch 12: 74.28681675078613\n",
      "Epoch 13: 75.00977769172962\n",
      "Epoch 14: 70.69810984709433\n",
      "Epoch 15: 70.9568085149374\n",
      "Epoch 16: 70.14401595281102\n",
      "Epoch 17: 70.7639128822678\n",
      "Epoch 18: 71.43205379987401\n",
      "Epoch 19: 71.43176278090547\n",
      "Epoch 20: 70.313358497185\n",
      "Epoch 21: 69.40759941072957\n",
      "Epoch 22: 68.92978076814185\n",
      "Epoch 23: 68.03329898465779\n",
      "Epoch 24: 67.1779757649416\n",
      "Epoch 25: 66.46077252143905\n",
      "Epoch 26: 63.3309269171635\n",
      "Epoch 27: 66.79815566131757\n",
      "Epoch 28: 64.83096653833941\n",
      "Epoch 29: 62.88693320154146\n",
      "Epoch 30: 62.528279109882924\n",
      "Epoch 31: 63.5060014909222\n",
      "Epoch 32: 62.266872062098365\n",
      "Epoch 33: 62.26688988782865\n",
      "Epoch 34: 62.34381798283929\n",
      "Epoch 35: 62.519110767405\n",
      "Epoch 36: 63.143573635570995\n",
      "Epoch 37: 63.9372052919297\n",
      "Epoch 38: 65.22319281526974\n",
      "Epoch 39: 62.602169026576334\n",
      "Epoch 40: 61.93840924496873\n",
      "Epoch 41: 63.42843000383471\n",
      "Epoch 42: 63.4573284541035\n",
      "Epoch 43: 63.38036020781878\n",
      "Epoch 44: 63.34204447979019\n",
      "Epoch 45: 63.50516258735055\n",
      "Epoch 46: 63.70918081936127\n",
      "Epoch 47: 63.95977161115124\n",
      "Epoch 48: 64.30192761726323\n",
      "Epoch 49: 63.85168643437681\n"
     ]
    }
   ],
   "source": [
    "delta = [.001, 0.005, 0.01, 0.05, 0.1, 0.5, 1., 5.]\n",
    "loss_with_delta = []\n",
    "for i in range(len(delta)):\n",
    "    loss_with_delta.append(huber_loss(Y, Y_predicted, delta=delta[i]))\n",
    "\n",
    "optimizer = []\n",
    "for i in range(len(delta)):\n",
    "    optimizer.append(tf.train.GradientDescentOptimizer(learning_rate=0.01).minimize(loss_with_delta[i]))\n",
    "    \n",
    "w_n = []\n",
    "b_n = []\n",
    "for j in range(len(delta)):\n",
    "    with tf.Session() as sess:\n",
    "        sess.run(tf.global_variables_initializer())\n",
    "        writer = tf.summary.FileWriter('./graphs/linear_reg', sess.graph)\n",
    "        \n",
    "        for i in range(50): # train the model 50 epochs\n",
    "            total_loss = 0\n",
    "            for x, y in data:\n",
    "                # Session runs train_op and fetch values of loss\n",
    "                _, l = sess.run([optimizer[j], loss_with_delta[j]], feed_dict={X:x, Y:y})\n",
    "                total_loss += l\n",
    "            print('Epoch {0}: {1}'.format(i, total_loss/float(n_samples)))\n",
    "        \n",
    "        res = sess.run([w, b])\n",
    "        w_n.append(res[0])\n",
    "        b_n.append(res[1])\n",
    "\n",
    "# close the writer when you're done using it\n",
    "writer.close()\n",
    "\n",
    "\n"
   ]
  },
  {
   "cell_type": "code",
   "execution_count": 278,
   "metadata": {},
   "outputs": [
    {
     "data": {
      "image/png": "[encoded data removed]",
      "text/plain": [
       "<matplotlib.figure.Figure at 0x7f868accddd8>"
      ]
     },
     "metadata": {},
     "output_type": "display_data"
    }
   ],
   "source": [
    "X, Y = data[:, 0], data[:, 1]\n",
    "plt.figure(figsize=(12, 8))\n",
    "plt.scatter(X, Y, label=\"Real data\")\n",
    "for i in range(len(delta)):\n",
    "    label_delta = \"Predicted data: delta = \" + str(delta[i])\n",
    "    plt.plot(Xd, w_n[i] * Xd + b_n[i], label=label_delta)\n",
    "plt.legend()\n",
    "plt.show()\n",
    "\n"
   ]
  },
  {
   "cell_type": "code",
   "execution_count": null,
   "metadata": {
    "collapsed": true
   },
   "outputs": [],
   "source": []
  }
 ],
 "metadata": {
  "kernelspec": {
   "display_name": "Python 3",
   "language": "python",
   "name": "python3"
  },
  "language_info": {
   "codemirror_mode": {
    "name": "ipython",
    "version": 3
   },
   "file_extension": ".py",
   "mimetype": "text/x-python",
   "name": "python",
   "nbconvert_exporter": "python",
   "pygments_lexer": "ipython3",
   "version": "3.6.1"
  }
 },
 "nbformat": 4,
 "nbformat_minor": 2
}
